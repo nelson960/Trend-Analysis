{
 "cells": [
  {
   "cell_type": "code",
   "execution_count": 4,
   "metadata": {},
   "outputs": [],
   "source": [
    "import tweepy\n",
    "import pandas as pd\n",
    "import time\n",
    "from typing import List, Dict, Optional"
   ]
  },
  {
   "cell_type": "code",
   "execution_count": 2,
   "metadata": {},
   "outputs": [],
   "source": [
    "#Authentication with twitter API\n",
    "API_KEY = 'qZA9z96WH1k5UAuX0QUjVDISI'\n",
    "API_SECRET = 'pDcgyVxu9UDqbmz7KrmaBDazaX2db1sON3KGZyE2uaftsqmtW9'\n",
    "BEARER_TOKEN = 'AAAAAAAAAAAAAAAAAAAAAHF7xQEAAAAAnYIG%2Br2%2BGK658u8OB%2BdNXb232Sw%3DhcTeqVXsI7aAT2FxubvU0y43YGZbklrnGZ82e7dmBHRLDOWTaA'\n",
    "\n",
    "client = tweepy.Client(bearer_token=BEARER_TOKEN, wait_on_rate_limit=True)"
   ]
  },
  {
   "cell_type": "code",
   "execution_count": 5,
   "metadata": {},
   "outputs": [
    {
     "name": "stdout",
     "output_type": "stream",
     "text": [
      "                       date  likeCount  replyCount  retweetCount  viewCount  \\\n",
      "0 2024-12-05 19:57:18+00:00          0           0             0          0   \n",
      "1 2024-12-05 19:57:11+00:00          0           0             0          0   \n",
      "2 2024-12-05 19:57:01+00:00          0           0             0          0   \n",
      "3 2024-12-05 19:57:01+00:00          0           0             0          1   \n",
      "4 2024-12-05 19:56:50+00:00          0           0             0          2   \n",
      "\n",
      "   followersCount                                             tweets  \n",
      "0            2707  @MaggyeHime I don't like the majority of what ...  \n",
      "1              62  @obidoess @marysolsmojito @rianphin I think th...  \n",
      "2            8262   @h0neyndmilk i owe Her my interest in fashion fr  \n",
      "3            1685  KNC? out jt hanging with the real fashion girl...  \n",
      "4              50  @_YazmeenSamiyya I think a decent percentage o...  \n"
     ]
    }
   ],
   "source": [
    "#Define a function to fetch tweets\n",
    "def fetch_tweets(query, max_results=10):\n",
    "\t'''\n",
    "\tFetch tweets using twitter API v2.\n",
    "\n",
    "\tParameters:\n",
    "\t\tquery (str): Search query (eg., keyword, hashtags).\n",
    "\t\tmax_results (int): Number of tweets to retrive (max tweets per request)\n",
    "\n",
    "\tReturns:\n",
    "\t\tDataFrame: Tweets with metadata.\n",
    "\t'''\n",
    "\ttweets_data = []\n",
    "\twhile True:\n",
    "\t\ttry:\n",
    "\t\t\tresponse = client.search_recent_tweets(\n",
    "\t\t\t\tquery=query,\n",
    "\t\t\t\ttweet_fields = ['created_at', 'public_metrics', 'author_id'],\n",
    "\t\t\t\tuser_fields= ['public_metrics'],\n",
    "\t\t\t\tmax_results = max_results,\n",
    "\t\t\t\texpansions='author_id'\n",
    "\t\t\t)\n",
    "\n",
    "\t\t\tif response.data:\n",
    "\t\t\t\tusers = {u[\"id\"]:u for u in response.includes[\"users\"]}\n",
    "\n",
    "\t\t\t\tfor tweet in response.data:\n",
    "\t\t\t\t\tauthor = users.get(tweet.author_id)\n",
    "\t\t\t\t\tmetrics = tweet.public_metrics\n",
    "\t\t\t\t\ttweets_data.append({\n",
    "\t\t\t\t\t\t\"date\":tweet.created_at,\n",
    "\t\t\t\t\t\t\"likeCount\":metrics[\"like_count\"],\n",
    "\t\t\t\t\t\t\"replyCount\":metrics[\"reply_count\"],\n",
    "\t\t\t\t\t\t\"retweetCount\":metrics[\"retweet_count\"],\n",
    "\t\t\t\t\t\t\"viewCount\":metrics.get(\"impression_count\", None), #viewCount is experimental\n",
    "\t\t\t\t\t\t\"followersCount\": author.public_metrics[\"followers_count\"],\n",
    "\t\t\t\t\t\t\"tweets\": tweet.text\n",
    "\t\t\t\t\t})\n",
    "\t\n",
    "\t\t\treturn pd.DataFrame(tweets_data)\n",
    "\t\texcept tweepy.TooManyRequests:\n",
    "\t\t\tprint(\"Rate limit reached. waiting for 15 minutes...\")\n",
    "\t\t\ttime.sleep(15*60) # wait 15 minutes\n",
    "\n",
    "query = \"fashion -is:retweet\"\n",
    "tweets_df = fetch_tweets(query, max_results=10)\n",
    "\n",
    "print(tweets_df.head())\n",
    "tweets_df.to_csv(\"tweets_data.csv\", index=False)"
   ]
  }
 ],
 "metadata": {
  "kernelspec": {
   "display_name": "ml",
   "language": "python",
   "name": "python3"
  },
  "language_info": {
   "codemirror_mode": {
    "name": "ipython",
    "version": 3
   },
   "file_extension": ".py",
   "mimetype": "text/x-python",
   "name": "python",
   "nbconvert_exporter": "python",
   "pygments_lexer": "ipython3",
   "version": "3.12.7"
  }
 },
 "nbformat": 4,
 "nbformat_minor": 2
}
