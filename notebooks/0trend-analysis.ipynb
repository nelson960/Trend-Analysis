{
 "cells": [
  {
   "cell_type": "markdown",
   "metadata": {},
   "source": [
    "# Dataset Preparation"
   ]
  },
  {
   "cell_type": "code",
   "execution_count": null,
   "metadata": {},
   "outputs": [],
   "source": [
    "import pandas as pd\n",
    "import numpy as np\n",
    "from prophet import Prophet\n",
    "import plotly.express as px\n",
    "from sklearn.feature_extraction.text import TfidfVectorizer\n",
    "from transformers import pipeline\n",
    "import matplotlib.pyplot as plt\n",
    "import torch\n",
    "import spacy\n",
    "from R_files.data_handler import DataCleaner"
   ]
  },
  {
   "cell_type": "code",
   "execution_count": null,
   "metadata": {},
   "outputs": [],
   "source": [
    "df = pd.read_csv('trend_analysis.csv')"
   ]
  },
  {
   "cell_type": "code",
   "execution_count": null,
   "metadata": {},
   "outputs": [],
   "source": [
    "cleaner = DataCleaner(df)\n",
    "df = cleaner.drop_rows((100000,547483))"
   ]
  },
  {
   "cell_type": "code",
   "execution_count": null,
   "metadata": {},
   "outputs": [],
   "source": [
    "df[-4:]"
   ]
  },
  {
   "cell_type": "code",
   "execution_count": null,
   "metadata": {},
   "outputs": [],
   "source": [
    "df[-100:]"
   ]
  },
  {
   "cell_type": "markdown",
   "metadata": {},
   "source": [
    "# Preparing data and ploting"
   ]
  },
  {
   "cell_type": "code",
   "execution_count": null,
   "metadata": {},
   "outputs": [],
   "source": [
    "df[\"date\"] = pd.to_datetime(df[\"date\"])"
   ]
  },
  {
   "cell_type": "code",
   "execution_count": null,
   "metadata": {},
   "outputs": [],
   "source": [
    "device = 'mps' if torch.backends.mps.is_available() else 'cpu'"
   ]
  },
  {
   "cell_type": "code",
   "execution_count": null,
   "metadata": {},
   "outputs": [],
   "source": [
    "nlp = spacy.load(\"en_core_web_sm\")\n",
    "brands = set()"
   ]
  },
  {
   "cell_type": "code",
   "execution_count": null,
   "metadata": {},
   "outputs": [],
   "source": [
    "predefined_brands = [\"nike\", \"samsung\", \"google\", \"microsoft\", \"amazon\"]"
   ]
  },
  {
   "cell_type": "code",
   "execution_count": null,
   "metadata": {},
   "outputs": [],
   "source": [
    "predefined_brands = {brand.lower() for brand in predefined_brands}\n"
   ]
  },
  {
   "cell_type": "code",
   "execution_count": null,
   "metadata": {},
   "outputs": [],
   "source": [
    "brand_counts = {brand: 0 for brand in predefined_brands}\n",
    "\n",
    "for tweet in df[\"tweets\"]:\n",
    "    # Process the tweet with spaCy\n",
    "    doc = nlp(tweet)\n",
    "    \n",
    "    # Check for named entities that are organizations or products\n",
    "    tweet_entities = {ent.text.lower() for ent in doc.ents if ent.label_ in [\"ORG\", \"PRODUCT\"]}\n",
    "    \n",
    "    # Count brands mentioned in the tweet\n",
    "    for brand in predefined_brands:\n",
    "        if brand in tweet_entities or brand in tweet.lower():\n",
    "            brand_counts[brand] += 1"
   ]
  },
  {
   "cell_type": "code",
   "execution_count": null,
   "metadata": {},
   "outputs": [],
   "source": [
    "for brand, count in brand_counts.items():\n",
    "    print(f\"{brand}: {count} mentions\")"
   ]
  },
  {
   "cell_type": "code",
   "execution_count": null,
   "metadata": {},
   "outputs": [],
   "source": [
    "brand_trends = []\n",
    "for brand in predefined_brands:\n",
    "\t#Filter tweets mentioning the brand\n",
    "\tbrand_df = df[df[\"tweets\"].str.contains(brand, case=False, na=False)]\n",
    "\tif brand_df.empty:\n",
    "\t\tcontinue\n",
    "\n",
    "\t#Aggregate daily engagement metrics\n",
    "\tdaily_engagement = brand_df.groupby(pd.Grouper(key=\"date\", freq=\"D\")).agg({\n",
    "\t\t\"likeCount\" : \"sum\",\n",
    "\t\t\"retweetCount\" :\"sum\",\n",
    "\t\t\"viewCount\" : \"sum\",\n",
    "\t\t\"replyCount\" : \"sum\"\n",
    "\t}).reset_index()\n",
    "\n",
    "\t#Compute composite engagement score\n",
    "\tdaily_engagement[\"engagement_score\"] = (\n",
    "\t\tdaily_engagement[\"likeCount\"] * 1 +\n",
    "\t\tdaily_engagement[\"retweetCount\"] * 3 +\n",
    "\t\tdaily_engagement[\"replyCount\"] * 2 +\n",
    "\t\t(daily_engagement[\"viewCount\"] / 1000) * 0.5\n",
    "\t)\n",
    "\n",
    "\t\t#Prepare data for prophet \n",
    "\tprophet_df = daily_engagement[[\"date\", \"engagement_score\"]].copy()\n",
    "\tprophet_df.columns = [\"ds\", \"y\"]\n",
    "\tprophet_df[\"brand\"] = brand\n",
    "\n",
    "\tprophet_df[\"ds\"] = prophet_df[\"ds\"].dt.tz_localize(None)\n",
    "\n",
    "\tbrand_trends.append(prophet_df)"
   ]
  },
  {
   "cell_type": "code",
   "execution_count": null,
   "metadata": {},
   "outputs": [],
   "source": [
    "all_brand_trends = pd.concat(brand_trends, ignore_index=True)"
   ]
  },
  {
   "cell_type": "code",
   "execution_count": null,
   "metadata": {},
   "outputs": [],
   "source": [
    "all_brand_trends"
   ]
  },
  {
   "cell_type": "markdown",
   "metadata": {},
   "source": [
    "# Model "
   ]
  },
  {
   "cell_type": "code",
   "execution_count": null,
   "metadata": {},
   "outputs": [],
   "source": [
    "all_forecasts = []\n",
    "for brand in all_brand_trends[\"brand\"].unique():\n",
    "\tbrand_data = all_brand_trends[all_brand_trends[\"brand\"] == brand] [[\"ds\", \"y\"]]\n",
    "\n",
    "\tmodel = Prophet(\n",
    "\t\tyearly_seasonality=True,\n",
    "\t\tweekly_seasonality=True,\n",
    "\t\tdaily_seasonality=False,\n",
    "\t\tchangepoint_prior_scale=0.05,\n",
    "\t\tseasonality_prior_scale=10,\n",
    "\t)\n",
    "\tmodel.fit(brand_data)\n",
    "\n",
    "\t#generate future prdictions\n",
    "\tfuture_dates = model.make_future_dataframe(periods=30)\n",
    "\tforecast = model.predict(future_dates)\n",
    "\tforecast[\"brand\"] = brand\n",
    "\tall_forecasts.append(forecast)"
   ]
  },
  {
   "cell_type": "code",
   "execution_count": null,
   "metadata": {},
   "outputs": [],
   "source": [
    "all_forecast_data = pd.concat(all_forecasts, ignore_index=True)"
   ]
  },
  {
   "cell_type": "markdown",
   "metadata": {},
   "source": [
    "# Visualize trends of specific brand"
   ]
  },
  {
   "cell_type": "code",
   "execution_count": null,
   "metadata": {},
   "outputs": [],
   "source": [
    "# Add a marker to distinguish between actual and forecasted data\n",
    "all_forecast_data[\"type\"] = \"forecasted\"\n",
    "all_forecast_data.loc[all_forecast_data[\"ds\"].isin(all_brand_trends[\"ds\"]), \"type\"] = \"actual\"\n",
    "\n",
    "# Visualize trends with date range selector\n",
    "fig = px.line(\n",
    "    all_forecast_data,\n",
    "    x=\"ds\",\n",
    "    y=\"yhat\",\n",
    "    color=\"brand\",\n",
    "    line_dash=\"type\",  # Differentiates between actual and forecasted data\n",
    "    title=\"Trend Forecast for All Brands\",\n",
    "    labels={\n",
    "        \"ds\": \"Date\",\n",
    "        \"yhat\": \"Engagement\",\n",
    "        \"brand\": \"Brand\",\n",
    "        \"type\": \"Data Type\",\n",
    "    },\n",
    ")\n",
    "\n",
    "# Update layout to include a date range slider and dropdown\n",
    "fig.update_layout(\n",
    "    xaxis=dict(\n",
    "        title=\"Date\",\n",
    "        rangeselector=dict(\n",
    "            buttons=[\n",
    "                {\"count\": 7, \"label\": \"Last 7 Days\", \"step\": \"day\", \"stepmode\": \"backward\"},\n",
    "                {\"count\": 30, \"label\": \"Last 30 Days\", \"step\": \"day\", \"stepmode\": \"backward\"},\n",
    "                {\"count\": 90, \"label\": \"Last 90 Days\", \"step\": \"day\", \"stepmode\": \"backward\"},\n",
    "                {\"step\": \"all\", \"label\": \"All Time\"}\n",
    "            ]\n",
    "        ),\n",
    "        rangeslider=dict(visible=True),  # Add a range slider below the graph\n",
    "        type=\"date\",\n",
    "    ),\n",
    "    yaxis_title=\"Engagement\",\n",
    "    legend_title=\"Brand\",\n",
    "    template=\"plotly_white\",\n",
    ")\n",
    "\n",
    "fig.show()\n"
   ]
  },
  {
   "cell_type": "code",
   "execution_count": null,
   "metadata": {},
   "outputs": [],
   "source": [
    "print(\"\\nTrending Brands:\")\n",
    "\n",
    "for brand in all_forecast_data[\"brand\"].unique():\n",
    "\tbrand_forecast = all_forecast_data[all_forecast_data[\"brand\"] == brand]\n",
    "\t\n",
    "    #Calulate trend strength over the last 30 days predicted days\n",
    "\tlast_30_days = brand_forecast.tail(30)\n",
    "\toverall_mean = brand_forecast[\"yhat\"].mean()\n",
    "\ttrend_strength = (last_30_days[\"yhat\"].mean() - overall_mean) / brand_forecast[\"yhat\"].std()\n",
    "\tprint(f\"{brand.capitalize()}: {trend_strength:.2f}\")"
   ]
  }
 ],
 "metadata": {
  "kernelspec": {
   "display_name": "ml",
   "language": "python",
   "name": "python3"
  },
  "language_info": {
   "codemirror_mode": {
    "name": "ipython",
    "version": 3
   },
   "file_extension": ".py",
   "mimetype": "text/x-python",
   "name": "python",
   "nbconvert_exporter": "python",
   "pygments_lexer": "ipython3",
   "version": "3.12.7"
  }
 },
 "nbformat": 4,
 "nbformat_minor": 2
}
